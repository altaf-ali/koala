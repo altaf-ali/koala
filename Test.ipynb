{
 "cells": [
  {
   "cell_type": "code",
   "execution_count": 52,
   "metadata": {
    "collapsed": false,
    "scrolled": true
   },
   "outputs": [
    {
     "name": "stderr",
     "output_type": "stream",
     "text": [
      "2015-07-24 00:43:53 DEBUG: Hello\n"
     ]
    }
   ],
   "source": [
    "import logging\n",
    "\n",
    "logger = logging.getLogger(__name__)\n",
    "handler = logging.StreamHandler() # sys.stdout\n",
    "formatter = logging.Formatter(\"%(asctime)s %(levelname)s: %(message)s\", \"%Y-%m-%d %H:%M:%S\")\n",
    "handler.setFormatter(formatter)\n",
    "logger.addHandler(handler)\n",
    "logger.setLevel(logging.DEBUG)\n",
    "logger.propagate = False\n",
    "\n",
    "logger.debug(\"Hello\")"
   ]
  },
  {
   "cell_type": "code",
   "execution_count": 92,
   "metadata": {
    "collapsed": false
   },
   "outputs": [
    {
     "name": "stderr",
     "output_type": "stream",
     "text": [
      "2015-07-24 01:51:16 ERROR: Incomplete download\n",
      "Traceback (most recent call last):\n",
      "  File \"<ipython-input-92-c4e72612f218>\", line 11, in run\n",
      "    download()\n",
      "  File \"<ipython-input-92-c4e72612f218>\", line 7, in download\n",
      "    raise HttpDownload.IncompleteDownload(123)\n",
      "IncompleteDownload: Incomplete download\n"
     ]
    },
    {
     "name": "stdout",
     "output_type": "stream",
     "text": [
      "checksum compare = 1\n"
     ]
    }
   ],
   "source": [
    "class HttpDownload(object):\n",
    "    class IncompleteDownload(Exception):\n",
    "        def __str__(self):\n",
    "            return \"Incomplete download\"\n",
    "        \n",
    "def download():\n",
    "    raise HttpDownload.IncompleteDownload(123)\n",
    "\n",
    "def run():\n",
    "    try:\n",
    "        download()\n",
    "    except HttpDownload.IncompleteDownload as e:\n",
    "        logger.exception(e, extra={\"a\":\"TEST_TEST_TEST\"})\n",
    "\n",
    "run()\n",
    "\n",
    "print \"checksum compare = %d\" % True\n"
   ]
  }
 ],
 "metadata": {
  "kernelspec": {
   "display_name": "Python 2",
   "language": "python",
   "name": "python2"
  },
  "language_info": {
   "codemirror_mode": {
    "name": "ipython",
    "version": 2
   },
   "file_extension": ".py",
   "mimetype": "text/x-python",
   "name": "python",
   "nbconvert_exporter": "python",
   "pygments_lexer": "ipython2",
   "version": "2.7.10"
  }
 },
 "nbformat": 4,
 "nbformat_minor": 0
}
